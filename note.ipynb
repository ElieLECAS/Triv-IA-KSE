{
 "cells": [
  {
   "cell_type": "markdown",
   "metadata": {},
   "source": [
    "Il faut 4 tables:    \n",
    "  \n",
    "    1. Les difficultés  \n",
    "    2. Les catégories  \n",
    "    3. Les questions  \n",
    "    4. Les propositions"
   ]
  },
  {
   "cell_type": "markdown",
   "metadata": {},
   "source": [
    "Pour les objets :  \n",
    "  \n",
    "    1. Le plateau  \n",
    "        a. Les cases  \n",
    "        b. Le tableau de scores  \n",
    "                    \n",
    "    3. Le dé  \n",
    "        a. La méthode \"lancer le dé\"  \n",
    "          \n",
    "    4. Le camembert  \n",
    "        a. Les déplacements  \n",
    "        b. La difficulté  \n",
    "        c. La liste vide des quartiers de camembert  \n",
    "          \n"
   ]
  },
  {
   "cell_type": "markdown",
   "metadata": {},
   "source": []
  }
 ],
 "metadata": {
  "language_info": {
   "name": "python"
  }
 },
 "nbformat": 4,
 "nbformat_minor": 2
}
