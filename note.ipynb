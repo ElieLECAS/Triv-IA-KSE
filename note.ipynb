{
 "cells": [
  {
   "cell_type": "markdown",
   "metadata": {},
   "source": [
<<<<<<< .merge_file_CZL819
    "Construction du jeu\n",
    "\n",
    "La map est un cercle avec un enchaînement de couleurs identiques.\n",
    "\n",
    "le gain de camembert est définitif\n",
    "un seul camembert par catégorie\n",
    "Il y a 6 catégories\n",
    "Pour gagner, il faut les 6 camemberts\n",
    "\n",
    "Le niveau de difficulté augmente avec les gains selon 3 paliers.\n",
    "\n",
    "0 à 2 = facile\n",
    "3 à 4 = moyen\n",
    "5 à 6 = difficile\n",
    "\n",
    "On crée une table pour:\n",
    "questions\n",
    "difficulté\n",
    "catégorie\n",
    "réponses \n",
    "\n",
    "Les classes:\n",
    "\n",
    "Jeu (Game) :\n",
    "Responsable de la gestion globale du jeu.\n",
    "Contrôle le déroulement du jeu, les tours des joueurs, etc.\n",
    "\n",
    "Plateau de jeu (GameBoard) :\n",
    "Représente le plateau du Trivial Pursuit avec les différentes catégories.\n",
    "Gère les questions et les réponses.\n",
    "\n",
    "Joueur (Player) :\n",
    "Représente un joueur du jeu.\n",
    "Stocke les scores du joueur.\n",
    "\n",
    "Catégorie (Category) :\n",
    "Représente une catégorie du Trivial Pursuit (par exemple, Histoire, Géographie, Science, etc.).\n",
    "Contient une liste de questions pour cette catégorie.\n",
    "\n",
    "Question (Question) :\n",
    "Représente une question du Trivial Pursuit.\n",
    "Stocke la question elle-même, les options de réponse et la réponse correcte.\n",
    "Partie (Round) :\n",
    "\n",
    "Gère un tour spécifique du jeu, comprenant les questions posées et les réponses des joueurs.\n",
    "\n",
    "Interface Utilisateur (UserInterface) :\n",
    "Gère l'interaction avec les joueurs via la ligne de commande ou une interface graphique, selon votre choix.\n",
    "\n",
    "Sur le plateau : on voit la position du joueur et une indication avec le nombre de camemebert\n",
    "\n",
    "creation d'un set pour le nombre de camembert\n",
    "creation \n"
   ]
=======
    "Il faut 4 tables:    \n",
    "  \n",
    "    1. Les difficultés  \n",
    "    2. Les catégories  \n",
    "    3. Les questions  \n",
    "    4. Les propositions"
   ]
  },
  {
   "cell_type": "markdown",
   "metadata": {},
   "source": [
    "Pour les objets :  \n",
    "  \n",
    "    1. Le plateau  \n",
    "        a. Les cases  \n",
    "        b. Le tableau de scores  \n",
    "                    \n",
    "    3. Le dé  \n",
    "        a. La méthode \"lancer le dé\"  \n",
    "          \n",
    "    4. Le camembert  \n",
    "        a. Les déplacements  \n",
    "        b. La difficulté  \n",
    "        c. La liste vide des quartiers de camembert  \n",
    "          \n"
   ]
  },
  {
   "cell_type": "markdown",
   "metadata": {},
   "source": []
>>>>>>> .merge_file_PgmBIE
  }
 ],
 "metadata": {
  "language_info": {
   "name": "python"
  }
 },
 "nbformat": 4,
 "nbformat_minor": 2
}
