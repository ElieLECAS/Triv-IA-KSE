{
 "cells": [
  {
   "cell_type": "markdown",
   "metadata": {},
   "source": [
    "Il faut 4 tables:\n",
    "    1. Les difficultés\n",
    "    2. Les catégories\n",
    "    3. Les questions\n",
    "    4. Les propositions"
   ]
  },
  {
   "cell_type": "markdown",
   "metadata": {},
   "source": [
    "Pour les objets : \n",
    "    1. Le plateau\n",
    "        a. Les cases\n",
    "        b. La difficulté\n",
    "        c. Le tableau de scores\n",
    "    2. Le dé\n",
    "        a. La méthode \"lancer le dé\"\n",
    "    3. Le camembert\n",
    "        a. Les déplacements\n",
    "        b. La liste vide des quartiers de camembert\n",
    "    4. les Queartiers de camembert\n",
    "    5. (Le Joueur)"
   ]
  },
  {
   "cell_type": "markdown",
   "metadata": {},
   "source": []
  }
 ],
 "metadata": {
  "language_info": {
   "name": "python"
  }
 },
 "nbformat": 4,
 "nbformat_minor": 2
}
